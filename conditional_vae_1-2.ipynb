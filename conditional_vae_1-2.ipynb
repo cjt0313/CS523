{
 "nbformat": 4,
 "nbformat_minor": 0,
 "metadata": {
  "colab": {
   "name": "conditional vae 1",
   "provenance": [],
   "collapsed_sections": []
  },
  "kernelspec": {
   "name": "python3",
   "display_name": "Python 3"
  },
  "language_info": {
   "name": "python"
  },
  "accelerator": "GPU",
  "widgets": {
   "application/vnd.jupyter.widget-state+json": {
    "356b8faa31a04b98816d283132e5a462": {
     "model_module": "@jupyter-widgets/controls",
     "model_name": "HBoxModel",
     "state": {
      "_view_name": "HBoxView",
      "_dom_classes": [],
      "_model_name": "HBoxModel",
      "_view_module": "@jupyter-widgets/controls",
      "_model_module_version": "1.5.0",
      "_view_count": null,
      "_view_module_version": "1.5.0",
      "box_style": "",
      "layout": "IPY_MODEL_4d38807c2a9f4b4e86183288c5057389",
      "_model_module": "@jupyter-widgets/controls",
      "children": [
       "IPY_MODEL_f5fd8b083e4746b6b0d170142856a06b",
       "IPY_MODEL_dce5d760139e41a2a438fa4b010f49bd"
      ]
     }
    },
    "4d38807c2a9f4b4e86183288c5057389": {
     "model_module": "@jupyter-widgets/base",
     "model_name": "LayoutModel",
     "state": {
      "_view_name": "LayoutView",
      "grid_template_rows": null,
      "right": null,
      "justify_content": null,
      "_view_module": "@jupyter-widgets/base",
      "overflow": null,
      "_model_module_version": "1.2.0",
      "_view_count": null,
      "flex_flow": null,
      "width": null,
      "min_width": null,
      "border": null,
      "align_items": null,
      "bottom": null,
      "_model_module": "@jupyter-widgets/base",
      "top": null,
      "grid_column": null,
      "overflow_y": null,
      "overflow_x": null,
      "grid_auto_flow": null,
      "grid_area": null,
      "grid_template_columns": null,
      "flex": null,
      "_model_name": "LayoutModel",
      "justify_items": null,
      "grid_row": null,
      "max_height": null,
      "align_content": null,
      "visibility": null,
      "align_self": null,
      "height": null,
      "min_height": null,
      "padding": null,
      "grid_auto_rows": null,
      "grid_gap": null,
      "max_width": null,
      "order": null,
      "_view_module_version": "1.2.0",
      "grid_template_areas": null,
      "object_position": null,
      "object_fit": null,
      "grid_auto_columns": null,
      "margin": null,
      "display": null,
      "left": null
     }
    },
    "f5fd8b083e4746b6b0d170142856a06b": {
     "model_module": "@jupyter-widgets/controls",
     "model_name": "FloatProgressModel",
     "state": {
      "_view_name": "ProgressView",
      "style": "IPY_MODEL_a89249b0e9034962974647cb4a3867d5",
      "_dom_classes": [],
      "description": "",
      "_model_name": "FloatProgressModel",
      "bar_style": "success",
      "max": 9912422,
      "_view_module": "@jupyter-widgets/controls",
      "_model_module_version": "1.5.0",
      "value": 9912422,
      "_view_count": null,
      "_view_module_version": "1.5.0",
      "orientation": "horizontal",
      "min": 0,
      "description_tooltip": null,
      "_model_module": "@jupyter-widgets/controls",
      "layout": "IPY_MODEL_76055d1edd3c413e96df7b03a9e9839c"
     }
    },
    "dce5d760139e41a2a438fa4b010f49bd": {
     "model_module": "@jupyter-widgets/controls",
     "model_name": "HTMLModel",
     "state": {
      "_view_name": "HTMLView",
      "style": "IPY_MODEL_6543dba6b1914eeeac7bce16d942265f",
      "_dom_classes": [],
      "description": "",
      "_model_name": "HTMLModel",
      "placeholder": "​",
      "_view_module": "@jupyter-widgets/controls",
      "_model_module_version": "1.5.0",
      "value": " 9913344/? [20:36&lt;00:00, 8016.45it/s]",
      "_view_count": null,
      "_view_module_version": "1.5.0",
      "description_tooltip": null,
      "_model_module": "@jupyter-widgets/controls",
      "layout": "IPY_MODEL_9ebd5139caf144fb8e0dbb500193a510"
     }
    },
    "a89249b0e9034962974647cb4a3867d5": {
     "model_module": "@jupyter-widgets/controls",
     "model_name": "ProgressStyleModel",
     "state": {
      "_view_name": "StyleView",
      "_model_name": "ProgressStyleModel",
      "description_width": "initial",
      "_view_module": "@jupyter-widgets/base",
      "_model_module_version": "1.5.0",
      "_view_count": null,
      "_view_module_version": "1.2.0",
      "bar_color": null,
      "_model_module": "@jupyter-widgets/controls"
     }
    },
    "76055d1edd3c413e96df7b03a9e9839c": {
     "model_module": "@jupyter-widgets/base",
     "model_name": "LayoutModel",
     "state": {
      "_view_name": "LayoutView",
      "grid_template_rows": null,
      "right": null,
      "justify_content": null,
      "_view_module": "@jupyter-widgets/base",
      "overflow": null,
      "_model_module_version": "1.2.0",
      "_view_count": null,
      "flex_flow": null,
      "width": null,
      "min_width": null,
      "border": null,
      "align_items": null,
      "bottom": null,
      "_model_module": "@jupyter-widgets/base",
      "top": null,
      "grid_column": null,
      "overflow_y": null,
      "overflow_x": null,
      "grid_auto_flow": null,
      "grid_area": null,
      "grid_template_columns": null,
      "flex": null,
      "_model_name": "LayoutModel",
      "justify_items": null,
      "grid_row": null,
      "max_height": null,
      "align_content": null,
      "visibility": null,
      "align_self": null,
      "height": null,
      "min_height": null,
      "padding": null,
      "grid_auto_rows": null,
      "grid_gap": null,
      "max_width": null,
      "order": null,
      "_view_module_version": "1.2.0",
      "grid_template_areas": null,
      "object_position": null,
      "object_fit": null,
      "grid_auto_columns": null,
      "margin": null,
      "display": null,
      "left": null
     }
    },
    "6543dba6b1914eeeac7bce16d942265f": {
     "model_module": "@jupyter-widgets/controls",
     "model_name": "DescriptionStyleModel",
     "state": {
      "_view_name": "StyleView",
      "_model_name": "DescriptionStyleModel",
      "description_width": "",
      "_view_module": "@jupyter-widgets/base",
      "_model_module_version": "1.5.0",
      "_view_count": null,
      "_view_module_version": "1.2.0",
      "_model_module": "@jupyter-widgets/controls"
     }
    },
    "9ebd5139caf144fb8e0dbb500193a510": {
     "model_module": "@jupyter-widgets/base",
     "model_name": "LayoutModel",
     "state": {
      "_view_name": "LayoutView",
      "grid_template_rows": null,
      "right": null,
      "justify_content": null,
      "_view_module": "@jupyter-widgets/base",
      "overflow": null,
      "_model_module_version": "1.2.0",
      "_view_count": null,
      "flex_flow": null,
      "width": null,
      "min_width": null,
      "border": null,
      "align_items": null,
      "bottom": null,
      "_model_module": "@jupyter-widgets/base",
      "top": null,
      "grid_column": null,
      "overflow_y": null,
      "overflow_x": null,
      "grid_auto_flow": null,
      "grid_area": null,
      "grid_template_columns": null,
      "flex": null,
      "_model_name": "LayoutModel",
      "justify_items": null,
      "grid_row": null,
      "max_height": null,
      "align_content": null,
      "visibility": null,
      "align_self": null,
      "height": null,
      "min_height": null,
      "padding": null,
      "grid_auto_rows": null,
      "grid_gap": null,
      "max_width": null,
      "order": null,
      "_view_module_version": "1.2.0",
      "grid_template_areas": null,
      "object_position": null,
      "object_fit": null,
      "grid_auto_columns": null,
      "margin": null,
      "display": null,
      "left": null
     }
    },
    "2083bf415c32419684951262c680d92e": {
     "model_module": "@jupyter-widgets/controls",
     "model_name": "HBoxModel",
     "state": {
      "_view_name": "HBoxView",
      "_dom_classes": [],
      "_model_name": "HBoxModel",
      "_view_module": "@jupyter-widgets/controls",
      "_model_module_version": "1.5.0",
      "_view_count": null,
      "_view_module_version": "1.5.0",
      "box_style": "",
      "layout": "IPY_MODEL_df9477adf4c742a2b97babe3685ab448",
      "_model_module": "@jupyter-widgets/controls",
      "children": [
       "IPY_MODEL_b68aa5a71ab540be9a15288f916720ab",
       "IPY_MODEL_33ada4fbe11f4b8c9eb8e4910dfb60e6"
      ]
     }
    },
    "df9477adf4c742a2b97babe3685ab448": {
     "model_module": "@jupyter-widgets/base",
     "model_name": "LayoutModel",
     "state": {
      "_view_name": "LayoutView",
      "grid_template_rows": null,
      "right": null,
      "justify_content": null,
      "_view_module": "@jupyter-widgets/base",
      "overflow": null,
      "_model_module_version": "1.2.0",
      "_view_count": null,
      "flex_flow": null,
      "width": null,
      "min_width": null,
      "border": null,
      "align_items": null,
      "bottom": null,
      "_model_module": "@jupyter-widgets/base",
      "top": null,
      "grid_column": null,
      "overflow_y": null,
      "overflow_x": null,
      "grid_auto_flow": null,
      "grid_area": null,
      "grid_template_columns": null,
      "flex": null,
      "_model_name": "LayoutModel",
      "justify_items": null,
      "grid_row": null,
      "max_height": null,
      "align_content": null,
      "visibility": null,
      "align_self": null,
      "height": null,
      "min_height": null,
      "padding": null,
      "grid_auto_rows": null,
      "grid_gap": null,
      "max_width": null,
      "order": null,
      "_view_module_version": "1.2.0",
      "grid_template_areas": null,
      "object_position": null,
      "object_fit": null,
      "grid_auto_columns": null,
      "margin": null,
      "display": null,
      "left": null
     }
    },
    "b68aa5a71ab540be9a15288f916720ab": {
     "model_module": "@jupyter-widgets/controls",
     "model_name": "FloatProgressModel",
     "state": {
      "_view_name": "ProgressView",
      "style": "IPY_MODEL_0667a52bbc19436bad5cf07150ba23f9",
      "_dom_classes": [],
      "description": "",
      "_model_name": "FloatProgressModel",
      "bar_style": "success",
      "max": 28881,
      "_view_module": "@jupyter-widgets/controls",
      "_model_module_version": "1.5.0",
      "value": 28881,
      "_view_count": null,
      "_view_module_version": "1.5.0",
      "orientation": "horizontal",
      "min": 0,
      "description_tooltip": null,
      "_model_module": "@jupyter-widgets/controls",
      "layout": "IPY_MODEL_7c6c1afe48494493b366313dc5bb762b"
     }
    },
    "33ada4fbe11f4b8c9eb8e4910dfb60e6": {
     "model_module": "@jupyter-widgets/controls",
     "model_name": "HTMLModel",
     "state": {
      "_view_name": "HTMLView",
      "style": "IPY_MODEL_2c072c283a0f444bba57b022ad5017f6",
      "_dom_classes": [],
      "description": "",
      "_model_name": "HTMLModel",
      "placeholder": "​",
      "_view_module": "@jupyter-widgets/controls",
      "_model_module_version": "1.5.0",
      "value": " 29696/? [00:02&lt;00:00, 13822.49it/s]",
      "_view_count": null,
      "_view_module_version": "1.5.0",
      "description_tooltip": null,
      "_model_module": "@jupyter-widgets/controls",
      "layout": "IPY_MODEL_a051c49e32dd49e1b8f6297e8801a86f"
     }
    },
    "0667a52bbc19436bad5cf07150ba23f9": {
     "model_module": "@jupyter-widgets/controls",
     "model_name": "ProgressStyleModel",
     "state": {
      "_view_name": "StyleView",
      "_model_name": "ProgressStyleModel",
      "description_width": "initial",
      "_view_module": "@jupyter-widgets/base",
      "_model_module_version": "1.5.0",
      "_view_count": null,
      "_view_module_version": "1.2.0",
      "bar_color": null,
      "_model_module": "@jupyter-widgets/controls"
     }
    },
    "7c6c1afe48494493b366313dc5bb762b": {
     "model_module": "@jupyter-widgets/base",
     "model_name": "LayoutModel",
     "state": {
      "_view_name": "LayoutView",
      "grid_template_rows": null,
      "right": null,
      "justify_content": null,
      "_view_module": "@jupyter-widgets/base",
      "overflow": null,
      "_model_module_version": "1.2.0",
      "_view_count": null,
      "flex_flow": null,
      "width": null,
      "min_width": null,
      "border": null,
      "align_items": null,
      "bottom": null,
      "_model_module": "@jupyter-widgets/base",
      "top": null,
      "grid_column": null,
      "overflow_y": null,
      "overflow_x": null,
      "grid_auto_flow": null,
      "grid_area": null,
      "grid_template_columns": null,
      "flex": null,
      "_model_name": "LayoutModel",
      "justify_items": null,
      "grid_row": null,
      "max_height": null,
      "align_content": null,
      "visibility": null,
      "align_self": null,
      "height": null,
      "min_height": null,
      "padding": null,
      "grid_auto_rows": null,
      "grid_gap": null,
      "max_width": null,
      "order": null,
      "_view_module_version": "1.2.0",
      "grid_template_areas": null,
      "object_position": null,
      "object_fit": null,
      "grid_auto_columns": null,
      "margin": null,
      "display": null,
      "left": null
     }
    },
    "2c072c283a0f444bba57b022ad5017f6": {
     "model_module": "@jupyter-widgets/controls",
     "model_name": "DescriptionStyleModel",
     "state": {
      "_view_name": "StyleView",
      "_model_name": "DescriptionStyleModel",
      "description_width": "",
      "_view_module": "@jupyter-widgets/base",
      "_model_module_version": "1.5.0",
      "_view_count": null,
      "_view_module_version": "1.2.0",
      "_model_module": "@jupyter-widgets/controls"
     }
    },
    "a051c49e32dd49e1b8f6297e8801a86f": {
     "model_module": "@jupyter-widgets/base",
     "model_name": "LayoutModel",
     "state": {
      "_view_name": "LayoutView",
      "grid_template_rows": null,
      "right": null,
      "justify_content": null,
      "_view_module": "@jupyter-widgets/base",
      "overflow": null,
      "_model_module_version": "1.2.0",
      "_view_count": null,
      "flex_flow": null,
      "width": null,
      "min_width": null,
      "border": null,
      "align_items": null,
      "bottom": null,
      "_model_module": "@jupyter-widgets/base",
      "top": null,
      "grid_column": null,
      "overflow_y": null,
      "overflow_x": null,
      "grid_auto_flow": null,
      "grid_area": null,
      "grid_template_columns": null,
      "flex": null,
      "_model_name": "LayoutModel",
      "justify_items": null,
      "grid_row": null,
      "max_height": null,
      "align_content": null,
      "visibility": null,
      "align_self": null,
      "height": null,
      "min_height": null,
      "padding": null,
      "grid_auto_rows": null,
      "grid_gap": null,
      "max_width": null,
      "order": null,
      "_view_module_version": "1.2.0",
      "grid_template_areas": null,
      "object_position": null,
      "object_fit": null,
      "grid_auto_columns": null,
      "margin": null,
      "display": null,
      "left": null
     }
    },
    "426cd820a361411394e0db7f2f1f30b1": {
     "model_module": "@jupyter-widgets/controls",
     "model_name": "HBoxModel",
     "state": {
      "_view_name": "HBoxView",
      "_dom_classes": [],
      "_model_name": "HBoxModel",
      "_view_module": "@jupyter-widgets/controls",
      "_model_module_version": "1.5.0",
      "_view_count": null,
      "_view_module_version": "1.5.0",
      "box_style": "",
      "layout": "IPY_MODEL_91e2e9a2205b44e48b605e32a1740359",
      "_model_module": "@jupyter-widgets/controls",
      "children": [
       "IPY_MODEL_903fa9128ac947029c8b66ed9cd04fb5",
       "IPY_MODEL_29743852d89a48c29e633f6b7a6b5335"
      ]
     }
    },
    "91e2e9a2205b44e48b605e32a1740359": {
     "model_module": "@jupyter-widgets/base",
     "model_name": "LayoutModel",
     "state": {
      "_view_name": "LayoutView",
      "grid_template_rows": null,
      "right": null,
      "justify_content": null,
      "_view_module": "@jupyter-widgets/base",
      "overflow": null,
      "_model_module_version": "1.2.0",
      "_view_count": null,
      "flex_flow": null,
      "width": null,
      "min_width": null,
      "border": null,
      "align_items": null,
      "bottom": null,
      "_model_module": "@jupyter-widgets/base",
      "top": null,
      "grid_column": null,
      "overflow_y": null,
      "overflow_x": null,
      "grid_auto_flow": null,
      "grid_area": null,
      "grid_template_columns": null,
      "flex": null,
      "_model_name": "LayoutModel",
      "justify_items": null,
      "grid_row": null,
      "max_height": null,
      "align_content": null,
      "visibility": null,
      "align_self": null,
      "height": null,
      "min_height": null,
      "padding": null,
      "grid_auto_rows": null,
      "grid_gap": null,
      "max_width": null,
      "order": null,
      "_view_module_version": "1.2.0",
      "grid_template_areas": null,
      "object_position": null,
      "object_fit": null,
      "grid_auto_columns": null,
      "margin": null,
      "display": null,
      "left": null
     }
    },
    "903fa9128ac947029c8b66ed9cd04fb5": {
     "model_module": "@jupyter-widgets/controls",
     "model_name": "FloatProgressModel",
     "state": {
      "_view_name": "ProgressView",
      "style": "IPY_MODEL_84365d9cc7384db2adf4380032128dde",
      "_dom_classes": [],
      "description": "",
      "_model_name": "FloatProgressModel",
      "bar_style": "success",
      "max": 1648877,
      "_view_module": "@jupyter-widgets/controls",
      "_model_module_version": "1.5.0",
      "value": 1648877,
      "_view_count": null,
      "_view_module_version": "1.5.0",
      "orientation": "horizontal",
      "min": 0,
      "description_tooltip": null,
      "_model_module": "@jupyter-widgets/controls",
      "layout": "IPY_MODEL_76618ad27d7f474f86340880d9f30af8"
     }
    },
    "29743852d89a48c29e633f6b7a6b5335": {
     "model_module": "@jupyter-widgets/controls",
     "model_name": "HTMLModel",
     "state": {
      "_view_name": "HTMLView",
      "style": "IPY_MODEL_b437da4f71184051a1252bf876955ded",
      "_dom_classes": [],
      "description": "",
      "_model_name": "HTMLModel",
      "placeholder": "​",
      "_view_module": "@jupyter-widgets/controls",
      "_model_module_version": "1.5.0",
      "value": " 1649664/? [00:00&lt;00:00, 1703422.71it/s]",
      "_view_count": null,
      "_view_module_version": "1.5.0",
      "description_tooltip": null,
      "_model_module": "@jupyter-widgets/controls",
      "layout": "IPY_MODEL_891869d9064e492b945506be33609255"
     }
    },
    "84365d9cc7384db2adf4380032128dde": {
     "model_module": "@jupyter-widgets/controls",
     "model_name": "ProgressStyleModel",
     "state": {
      "_view_name": "StyleView",
      "_model_name": "ProgressStyleModel",
      "description_width": "initial",
      "_view_module": "@jupyter-widgets/base",
      "_model_module_version": "1.5.0",
      "_view_count": null,
      "_view_module_version": "1.2.0",
      "bar_color": null,
      "_model_module": "@jupyter-widgets/controls"
     }
    },
    "76618ad27d7f474f86340880d9f30af8": {
     "model_module": "@jupyter-widgets/base",
     "model_name": "LayoutModel",
     "state": {
      "_view_name": "LayoutView",
      "grid_template_rows": null,
      "right": null,
      "justify_content": null,
      "_view_module": "@jupyter-widgets/base",
      "overflow": null,
      "_model_module_version": "1.2.0",
      "_view_count": null,
      "flex_flow": null,
      "width": null,
      "min_width": null,
      "border": null,
      "align_items": null,
      "bottom": null,
      "_model_module": "@jupyter-widgets/base",
      "top": null,
      "grid_column": null,
      "overflow_y": null,
      "overflow_x": null,
      "grid_auto_flow": null,
      "grid_area": null,
      "grid_template_columns": null,
      "flex": null,
      "_model_name": "LayoutModel",
      "justify_items": null,
      "grid_row": null,
      "max_height": null,
      "align_content": null,
      "visibility": null,
      "align_self": null,
      "height": null,
      "min_height": null,
      "padding": null,
      "grid_auto_rows": null,
      "grid_gap": null,
      "max_width": null,
      "order": null,
      "_view_module_version": "1.2.0",
      "grid_template_areas": null,
      "object_position": null,
      "object_fit": null,
      "grid_auto_columns": null,
      "margin": null,
      "display": null,
      "left": null
     }
    },
    "b437da4f71184051a1252bf876955ded": {
     "model_module": "@jupyter-widgets/controls",
     "model_name": "DescriptionStyleModel",
     "state": {
      "_view_name": "StyleView",
      "_model_name": "DescriptionStyleModel",
      "description_width": "",
      "_view_module": "@jupyter-widgets/base",
      "_model_module_version": "1.5.0",
      "_view_count": null,
      "_view_module_version": "1.2.0",
      "_model_module": "@jupyter-widgets/controls"
     }
    },
    "891869d9064e492b945506be33609255": {
     "model_module": "@jupyter-widgets/base",
     "model_name": "LayoutModel",
     "state": {
      "_view_name": "LayoutView",
      "grid_template_rows": null,
      "right": null,
      "justify_content": null,
      "_view_module": "@jupyter-widgets/base",
      "overflow": null,
      "_model_module_version": "1.2.0",
      "_view_count": null,
      "flex_flow": null,
      "width": null,
      "min_width": null,
      "border": null,
      "align_items": null,
      "bottom": null,
      "_model_module": "@jupyter-widgets/base",
      "top": null,
      "grid_column": null,
      "overflow_y": null,
      "overflow_x": null,
      "grid_auto_flow": null,
      "grid_area": null,
      "grid_template_columns": null,
      "flex": null,
      "_model_name": "LayoutModel",
      "justify_items": null,
      "grid_row": null,
      "max_height": null,
      "align_content": null,
      "visibility": null,
      "align_self": null,
      "height": null,
      "min_height": null,
      "padding": null,
      "grid_auto_rows": null,
      "grid_gap": null,
      "max_width": null,
      "order": null,
      "_view_module_version": "1.2.0",
      "grid_template_areas": null,
      "object_position": null,
      "object_fit": null,
      "grid_auto_columns": null,
      "margin": null,
      "display": null,
      "left": null
     }
    },
    "a7b7e54bdfd54c6d9f82cbeae4eb32d4": {
     "model_module": "@jupyter-widgets/controls",
     "model_name": "HBoxModel",
     "state": {
      "_view_name": "HBoxView",
      "_dom_classes": [],
      "_model_name": "HBoxModel",
      "_view_module": "@jupyter-widgets/controls",
      "_model_module_version": "1.5.0",
      "_view_count": null,
      "_view_module_version": "1.5.0",
      "box_style": "",
      "layout": "IPY_MODEL_86e42241cb694b9bbc48000a71ef7fd5",
      "_model_module": "@jupyter-widgets/controls",
      "children": [
       "IPY_MODEL_f7739f1418744327924507c5ced435f7",
       "IPY_MODEL_5f56bf6bb0dd4710abe6087aa7308aeb"
      ]
     }
    },
    "86e42241cb694b9bbc48000a71ef7fd5": {
     "model_module": "@jupyter-widgets/base",
     "model_name": "LayoutModel",
     "state": {
      "_view_name": "LayoutView",
      "grid_template_rows": null,
      "right": null,
      "justify_content": null,
      "_view_module": "@jupyter-widgets/base",
      "overflow": null,
      "_model_module_version": "1.2.0",
      "_view_count": null,
      "flex_flow": null,
      "width": null,
      "min_width": null,
      "border": null,
      "align_items": null,
      "bottom": null,
      "_model_module": "@jupyter-widgets/base",
      "top": null,
      "grid_column": null,
      "overflow_y": null,
      "overflow_x": null,
      "grid_auto_flow": null,
      "grid_area": null,
      "grid_template_columns": null,
      "flex": null,
      "_model_name": "LayoutModel",
      "justify_items": null,
      "grid_row": null,
      "max_height": null,
      "align_content": null,
      "visibility": null,
      "align_self": null,
      "height": null,
      "min_height": null,
      "padding": null,
      "grid_auto_rows": null,
      "grid_gap": null,
      "max_width": null,
      "order": null,
      "_view_module_version": "1.2.0",
      "grid_template_areas": null,
      "object_position": null,
      "object_fit": null,
      "grid_auto_columns": null,
      "margin": null,
      "display": null,
      "left": null
     }
    },
    "f7739f1418744327924507c5ced435f7": {
     "model_module": "@jupyter-widgets/controls",
     "model_name": "FloatProgressModel",
     "state": {
      "_view_name": "ProgressView",
      "style": "IPY_MODEL_4738cddafa0945f383ae7f47e48f3dd7",
      "_dom_classes": [],
      "description": "",
      "_model_name": "FloatProgressModel",
      "bar_style": "success",
      "max": 4542,
      "_view_module": "@jupyter-widgets/controls",
      "_model_module_version": "1.5.0",
      "value": 4542,
      "_view_count": null,
      "_view_module_version": "1.5.0",
      "orientation": "horizontal",
      "min": 0,
      "description_tooltip": null,
      "_model_module": "@jupyter-widgets/controls",
      "layout": "IPY_MODEL_fdaa7da7b47a46dba3ef09f087420982"
     }
    },
    "5f56bf6bb0dd4710abe6087aa7308aeb": {
     "model_module": "@jupyter-widgets/controls",
     "model_name": "HTMLModel",
     "state": {
      "_view_name": "HTMLView",
      "style": "IPY_MODEL_cbc897d839c446a4a8c3a498a8e47683",
      "_dom_classes": [],
      "description": "",
      "_model_name": "HTMLModel",
      "placeholder": "​",
      "_view_module": "@jupyter-widgets/controls",
      "_model_module_version": "1.5.0",
      "value": " 5120/? [20:32&lt;00:00,  4.15it/s]",
      "_view_count": null,
      "_view_module_version": "1.5.0",
      "description_tooltip": null,
      "_model_module": "@jupyter-widgets/controls",
      "layout": "IPY_MODEL_215cfe20a79e4a9ebce571a4d853abf0"
     }
    },
    "4738cddafa0945f383ae7f47e48f3dd7": {
     "model_module": "@jupyter-widgets/controls",
     "model_name": "ProgressStyleModel",
     "state": {
      "_view_name": "StyleView",
      "_model_name": "ProgressStyleModel",
      "description_width": "initial",
      "_view_module": "@jupyter-widgets/base",
      "_model_module_version": "1.5.0",
      "_view_count": null,
      "_view_module_version": "1.2.0",
      "bar_color": null,
      "_model_module": "@jupyter-widgets/controls"
     }
    },
    "fdaa7da7b47a46dba3ef09f087420982": {
     "model_module": "@jupyter-widgets/base",
     "model_name": "LayoutModel",
     "state": {
      "_view_name": "LayoutView",
      "grid_template_rows": null,
      "right": null,
      "justify_content": null,
      "_view_module": "@jupyter-widgets/base",
      "overflow": null,
      "_model_module_version": "1.2.0",
      "_view_count": null,
      "flex_flow": null,
      "width": null,
      "min_width": null,
      "border": null,
      "align_items": null,
      "bottom": null,
      "_model_module": "@jupyter-widgets/base",
      "top": null,
      "grid_column": null,
      "overflow_y": null,
      "overflow_x": null,
      "grid_auto_flow": null,
      "grid_area": null,
      "grid_template_columns": null,
      "flex": null,
      "_model_name": "LayoutModel",
      "justify_items": null,
      "grid_row": null,
      "max_height": null,
      "align_content": null,
      "visibility": null,
      "align_self": null,
      "height": null,
      "min_height": null,
      "padding": null,
      "grid_auto_rows": null,
      "grid_gap": null,
      "max_width": null,
      "order": null,
      "_view_module_version": "1.2.0",
      "grid_template_areas": null,
      "object_position": null,
      "object_fit": null,
      "grid_auto_columns": null,
      "margin": null,
      "display": null,
      "left": null
     }
    },
    "cbc897d839c446a4a8c3a498a8e47683": {
     "model_module": "@jupyter-widgets/controls",
     "model_name": "DescriptionStyleModel",
     "state": {
      "_view_name": "StyleView",
      "_model_name": "DescriptionStyleModel",
      "description_width": "",
      "_view_module": "@jupyter-widgets/base",
      "_model_module_version": "1.5.0",
      "_view_count": null,
      "_view_module_version": "1.2.0",
      "_model_module": "@jupyter-widgets/controls"
     }
    },
    "215cfe20a79e4a9ebce571a4d853abf0": {
     "model_module": "@jupyter-widgets/base",
     "model_name": "LayoutModel",
     "state": {
      "_view_name": "LayoutView",
      "grid_template_rows": null,
      "right": null,
      "justify_content": null,
      "_view_module": "@jupyter-widgets/base",
      "overflow": null,
      "_model_module_version": "1.2.0",
      "_view_count": null,
      "flex_flow": null,
      "width": null,
      "min_width": null,
      "border": null,
      "align_items": null,
      "bottom": null,
      "_model_module": "@jupyter-widgets/base",
      "top": null,
      "grid_column": null,
      "overflow_y": null,
      "overflow_x": null,
      "grid_auto_flow": null,
      "grid_area": null,
      "grid_template_columns": null,
      "flex": null,
      "_model_name": "LayoutModel",
      "justify_items": null,
      "grid_row": null,
      "max_height": null,
      "align_content": null,
      "visibility": null,
      "align_self": null,
      "height": null,
      "min_height": null,
      "padding": null,
      "grid_auto_rows": null,
      "grid_gap": null,
      "max_width": null,
      "order": null,
      "_view_module_version": "1.2.0",
      "grid_template_areas": null,
      "object_position": null,
      "object_fit": null,
      "grid_auto_columns": null,
      "margin": null,
      "display": null,
      "left": null
     }
    }
   }
  }
 },
 "cells": [
  {
   "cell_type": "markdown",
   "metadata": {
    "id": "XCEwOCxN-J5H"
   },
   "source": [
    "variational autoencoder 1"
   ]
  },
  {
   "cell_type": "code",
   "metadata": {
    "id": "3Ba65haFstpD",
    "colab": {
     "base_uri": "https://localhost:8080/",
     "height": 709,
     "referenced_widgets": [
      "356b8faa31a04b98816d283132e5a462",
      "4d38807c2a9f4b4e86183288c5057389",
      "f5fd8b083e4746b6b0d170142856a06b",
      "dce5d760139e41a2a438fa4b010f49bd",
      "a89249b0e9034962974647cb4a3867d5",
      "76055d1edd3c413e96df7b03a9e9839c",
      "6543dba6b1914eeeac7bce16d942265f",
      "9ebd5139caf144fb8e0dbb500193a510",
      "2083bf415c32419684951262c680d92e",
      "df9477adf4c742a2b97babe3685ab448",
      "b68aa5a71ab540be9a15288f916720ab",
      "33ada4fbe11f4b8c9eb8e4910dfb60e6",
      "0667a52bbc19436bad5cf07150ba23f9",
      "7c6c1afe48494493b366313dc5bb762b",
      "2c072c283a0f444bba57b022ad5017f6",
      "a051c49e32dd49e1b8f6297e8801a86f",
      "426cd820a361411394e0db7f2f1f30b1",
      "91e2e9a2205b44e48b605e32a1740359",
      "903fa9128ac947029c8b66ed9cd04fb5",
      "29743852d89a48c29e633f6b7a6b5335",
      "84365d9cc7384db2adf4380032128dde",
      "76618ad27d7f474f86340880d9f30af8",
      "b437da4f71184051a1252bf876955ded",
      "891869d9064e492b945506be33609255",
      "a7b7e54bdfd54c6d9f82cbeae4eb32d4",
      "86e42241cb694b9bbc48000a71ef7fd5",
      "f7739f1418744327924507c5ced435f7",
      "5f56bf6bb0dd4710abe6087aa7308aeb",
      "4738cddafa0945f383ae7f47e48f3dd7",
      "fdaa7da7b47a46dba3ef09f087420982",
      "cbc897d839c446a4a8c3a498a8e47683",
      "215cfe20a79e4a9ebce571a4d853abf0"
     ]
    },
    "outputId": "086cf0ff-aed0-4879-87c9-084bf0f266b2"
   },
   "source": [
    "import torch\n",
    "import torch.nn as nn\n",
    "import torch.nn.functional as F\n",
    "import torch.optim as optim\n",
    "from torchvision import datasets, transforms\n",
    "from torch.autograd import Variable\n",
    "from torchvision.utils import save_image\n",
    "import matplotlib as plt\n",
    "\n",
    "bs = 100\n",
    "# MNIST Dataset\n",
    "train_dataset = datasets.MNIST(root='./mnist_data/', train=True, \n",
    "                               transform=transforms.ToTensor(), download=True)\n",
    "test_dataset = datasets.MNIST(root='./mnist_data/', train=False, \n",
    "                              transform=transforms.ToTensor(), download=False)\n",
    "\n",
    "# Data Loader (Input Pipeline)\n",
    "train_loader = torch.utils.data.DataLoader(dataset=train_dataset, batch_size=bs, shuffle=True)\n",
    "test_loader = torch.utils.data.DataLoader(dataset=test_dataset, batch_size=bs, shuffle=False)"
   ],
   "execution_count": 2,
   "outputs": [
    {
     "output_type": "stream",
     "text": [
      "Downloading http://yann.lecun.com/exdb/mnist/train-images-idx3-ubyte.gz\n",
      "Downloading http://yann.lecun.com/exdb/mnist/train-images-idx3-ubyte.gz to ./mnist_data/MNIST/raw/train-images-idx3-ubyte.gz\n",
      "Failed to download (trying next):\n",
      "HTTP Error 503: Service Unavailable\n",
      "\n",
      "Downloading https://ossci-datasets.s3.amazonaws.com/mnist/train-images-idx3-ubyte.gz\n",
      "Downloading https://ossci-datasets.s3.amazonaws.com/mnist/train-images-idx3-ubyte.gz to ./mnist_data/MNIST/raw/train-images-idx3-ubyte.gz\n"
     ],
     "name": "stdout"
    },
    {
     "output_type": "display_data",
     "data": {
      "application/vnd.jupyter.widget-view+json": {
       "model_id": "356b8faa31a04b98816d283132e5a462",
       "version_minor": 0,
       "version_major": 2
      },
      "text/plain": [
       "HBox(children=(FloatProgress(value=0.0, max=9912422.0), HTML(value='')))"
      ]
     },
     "metadata": {
      "tags": []
     }
    },
    {
     "output_type": "stream",
     "text": [
      "\n",
      "Extracting ./mnist_data/MNIST/raw/train-images-idx3-ubyte.gz to ./mnist_data/MNIST/raw\n",
      "\n",
      "Downloading http://yann.lecun.com/exdb/mnist/train-labels-idx1-ubyte.gz\n",
      "Downloading http://yann.lecun.com/exdb/mnist/train-labels-idx1-ubyte.gz to ./mnist_data/MNIST/raw/train-labels-idx1-ubyte.gz\n"
     ],
     "name": "stdout"
    },
    {
     "output_type": "display_data",
     "data": {
      "application/vnd.jupyter.widget-view+json": {
       "model_id": "2083bf415c32419684951262c680d92e",
       "version_minor": 0,
       "version_major": 2
      },
      "text/plain": [
       "HBox(children=(FloatProgress(value=0.0, max=28881.0), HTML(value='')))"
      ]
     },
     "metadata": {
      "tags": []
     }
    },
    {
     "output_type": "stream",
     "text": [
      "\n",
      "Extracting ./mnist_data/MNIST/raw/train-labels-idx1-ubyte.gz to ./mnist_data/MNIST/raw\n",
      "\n",
      "Downloading http://yann.lecun.com/exdb/mnist/t10k-images-idx3-ubyte.gz\n",
      "Downloading http://yann.lecun.com/exdb/mnist/t10k-images-idx3-ubyte.gz to ./mnist_data/MNIST/raw/t10k-images-idx3-ubyte.gz\n",
      "Failed to download (trying next):\n",
      "HTTP Error 503: Service Unavailable\n",
      "\n",
      "Downloading https://ossci-datasets.s3.amazonaws.com/mnist/t10k-images-idx3-ubyte.gz\n",
      "Downloading https://ossci-datasets.s3.amazonaws.com/mnist/t10k-images-idx3-ubyte.gz to ./mnist_data/MNIST/raw/t10k-images-idx3-ubyte.gz\n"
     ],
     "name": "stdout"
    },
    {
     "output_type": "display_data",
     "data": {
      "application/vnd.jupyter.widget-view+json": {
       "model_id": "426cd820a361411394e0db7f2f1f30b1",
       "version_minor": 0,
       "version_major": 2
      },
      "text/plain": [
       "HBox(children=(FloatProgress(value=0.0, max=1648877.0), HTML(value='')))"
      ]
     },
     "metadata": {
      "tags": []
     }
    },
    {
     "output_type": "stream",
     "text": [
      "\n",
      "Extracting ./mnist_data/MNIST/raw/t10k-images-idx3-ubyte.gz to ./mnist_data/MNIST/raw\n",
      "\n",
      "Downloading http://yann.lecun.com/exdb/mnist/t10k-labels-idx1-ubyte.gz\n",
      "Downloading http://yann.lecun.com/exdb/mnist/t10k-labels-idx1-ubyte.gz to ./mnist_data/MNIST/raw/t10k-labels-idx1-ubyte.gz\n"
     ],
     "name": "stdout"
    },
    {
     "output_type": "display_data",
     "data": {
      "application/vnd.jupyter.widget-view+json": {
       "model_id": "a7b7e54bdfd54c6d9f82cbeae4eb32d4",
       "version_minor": 0,
       "version_major": 2
      },
      "text/plain": [
       "HBox(children=(FloatProgress(value=0.0, max=4542.0), HTML(value='')))"
      ]
     },
     "metadata": {
      "tags": []
     }
    },
    {
     "output_type": "stream",
     "text": [
      "\n",
      "Extracting ./mnist_data/MNIST/raw/t10k-labels-idx1-ubyte.gz to ./mnist_data/MNIST/raw\n",
      "\n"
     ],
     "name": "stdout"
    },
    {
     "output_type": "stream",
     "text": [
      "/usr/local/lib/python3.7/dist-packages/torchvision/datasets/mnist.py:498: UserWarning: The given NumPy array is not writeable, and PyTorch does not support non-writeable tensors. This means you can write to the underlying (supposedly non-writeable) NumPy array using the tensor. You may want to copy the array to protect its data or make it writeable before converting it to a tensor. This type of warning will be suppressed for the rest of this program. (Triggered internally at  /pytorch/torch/csrc/utils/tensor_numpy.cpp:180.)\n",
      "  return torch.from_numpy(parsed.astype(m[2], copy=False)).view(*s)\n"
     ],
     "name": "stderr"
    }
   ]
  },
  {
   "cell_type": "code",
   "metadata": {
    "colab": {
     "base_uri": "https://localhost:8080/"
    },
    "id": "GdrOOPT1t1vK",
    "outputId": "83bb68f8-fbb3-423e-fb6e-53b94de82e5d"
   },
   "source": [
    "class CVAE(nn.Module):\n",
    "    def __init__(self, x_dim, h_dim1, h_dim2, z_dim, c_dim):\n",
    "        super(CVAE, self).__init__()\n",
    "        \n",
    "        # encoder part\n",
    "        self.fc1 = nn.Linear(x_dim + c_dim, h_dim1)\n",
    "        self.fc2 = nn.Linear(h_dim1, h_dim2)\n",
    "        self.fc31 = nn.Linear(h_dim2, z_dim)\n",
    "        self.fc32 = nn.Linear(h_dim2, z_dim)\n",
    "        # decoder part\n",
    "        self.fc4 = nn.Linear(z_dim + c_dim, h_dim2)\n",
    "        self.fc5 = nn.Linear(h_dim2, h_dim1)\n",
    "        self.fc6 = nn.Linear(h_dim1, x_dim)\n",
    "    \n",
    "    def encoder(self, x, c):\n",
    "        concat_input = torch.cat([x, c], 1)\n",
    "        h = F.relu(self.fc1(concat_input))\n",
    "        h = F.relu(self.fc2(h))\n",
    "        return self.fc31(h), self.fc32(h)\n",
    "    \n",
    "    def sampling(self, mu, log_var):\n",
    "        std = torch.exp(0.5*log_var)\n",
    "        eps = torch.randn_like(std)\n",
    "        return eps.mul(std).add(mu) # return z sample\n",
    "    \n",
    "    def decoder(self, z, c):\n",
    "        concat_input = torch.cat([z, c], 1)\n",
    "        h = F.relu(self.fc4(concat_input))\n",
    "        h = F.relu(self.fc5(h))\n",
    "        return F.sigmoid(self.fc6(h))\n",
    "    \n",
    "    def forward(self, x, c):\n",
    "        mu, log_var = self.encoder(x.view(-1, 784), c)\n",
    "        z = self.sampling(mu, log_var)\n",
    "        return self.decoder(z, c), mu, log_var\n",
    "\n",
    "# build model\n",
    "cond_dim = train_loader.dataset.train_labels.unique().size(0)\n",
    "cvae = CVAE(x_dim=784, h_dim1=512, h_dim2=256, z_dim=2, c_dim=cond_dim)\n",
    "if torch.cuda.is_available():\n",
    "    cvae.cuda()"
   ],
   "execution_count": 3,
   "outputs": [
    {
     "output_type": "stream",
     "text": [
      "/usr/local/lib/python3.7/dist-packages/torchvision/datasets/mnist.py:52: UserWarning: train_labels has been renamed targets\n",
      "  warnings.warn(\"train_labels has been renamed targets\")\n"
     ],
     "name": "stderr"
    }
   ]
  },
  {
   "cell_type": "code",
   "metadata": {
    "colab": {
     "base_uri": "https://localhost:8080/"
    },
    "id": "ur7ltGM6uJn5",
    "outputId": "09e679af-526f-4d78-c2ed-fba3bb837c76"
   },
   "source": [
    "cvae"
   ],
   "execution_count": 4,
   "outputs": [
    {
     "output_type": "execute_result",
     "data": {
      "text/plain": [
       "CVAE(\n",
       "  (fc1): Linear(in_features=794, out_features=512, bias=True)\n",
       "  (fc2): Linear(in_features=512, out_features=256, bias=True)\n",
       "  (fc31): Linear(in_features=256, out_features=2, bias=True)\n",
       "  (fc32): Linear(in_features=256, out_features=2, bias=True)\n",
       "  (fc4): Linear(in_features=12, out_features=256, bias=True)\n",
       "  (fc5): Linear(in_features=256, out_features=512, bias=True)\n",
       "  (fc6): Linear(in_features=512, out_features=784, bias=True)\n",
       ")"
      ]
     },
     "metadata": {
      "tags": []
     },
     "execution_count": 4
    }
   ]
  },
  {
   "cell_type": "code",
   "metadata": {
    "id": "w-5eo8c_uZ3a"
   },
   "source": [
    "optimizer = optim.Adam(cvae.parameters())\n",
    "# return reconstruction error + KL divergence losses\n",
    "def loss_function(recon_x, x, mu, log_var):\n",
    "    BCE = F.binary_cross_entropy(recon_x, x.view(-1, 784), reduction='sum')\n",
    "    KLD = -0.5 * torch.sum(1 + log_var - mu.pow(2) - log_var.exp())\n",
    "    return BCE + KLD\n",
    "\n",
    "# one-hot encoding\n",
    "def one_hot(labels, class_size): \n",
    "    targets = torch.zeros(labels.size(0), class_size)\n",
    "    for i, label in enumerate(labels):\n",
    "        targets[i, label] = 1\n",
    "    return Variable(targets)"
   ],
   "execution_count": 5,
   "outputs": []
  },
  {
   "cell_type": "code",
   "metadata": {
    "id": "Vxl-A9Ysueir"
   },
   "source": [
    "def train(epoch):\n",
    "    cvae.train()\n",
    "    train_loss = 0\n",
    "    for batch_idx, (data, cond) in enumerate(train_loader):\n",
    "        data, cond = data.cuda(), one_hot(cond, cond_dim).cuda()\n",
    "        optimizer.zero_grad()\n",
    "        \n",
    "        recon_batch, mu, log_var = cvae(data, cond)\n",
    "        loss = loss_function(recon_batch, data, mu, log_var)\n",
    "        \n",
    "        loss.backward()\n",
    "        train_loss += loss.item()\n",
    "        optimizer.step()\n",
    "        \n",
    "\n",
    "        if batch_idx % 100 == 0:\n",
    "            print('Train Epoch: {} [{}/{} ({:.0f}%)]\\tLoss: {:.6f}'.format(\n",
    "                epoch, batch_idx * len(data), len(train_loader.dataset),\n",
    "                100. * batch_idx / len(train_loader), loss.item() / len(data)))\n",
    "    print('====> Epoch: {} Average loss: {:.4f}'.format(epoch, train_loss / len(train_loader.dataset)))"
   ],
   "execution_count": 6,
   "outputs": []
  },
  {
   "cell_type": "code",
   "metadata": {
    "id": "3wcbbz3Zuho0"
   },
   "source": [
    "def test():\n",
    "    cvae.eval()\n",
    "    test_loss= 0\n",
    "    with torch.no_grad():\n",
    "        for data, cond in test_loader:\n",
    "            data, cond = data.cuda(), one_hot(cond, cond_dim).cuda()\n",
    "            recon, mu, log_var = cvae(data, cond)\n",
    "            # sum up batch loss\n",
    "            test_loss += loss_function(recon, data, mu, log_var).item()\n",
    "        \n",
    "    test_loss /= len(test_loader.dataset)\n",
    "    print('====> Test set loss: {:.4f}'.format(test_loss))"
   ],
   "execution_count": 7,
   "outputs": []
  },
  {
   "cell_type": "code",
   "metadata": {
    "colab": {
     "base_uri": "https://localhost:8080/"
    },
    "id": "bD7UMHpIuqmM",
    "outputId": "f2779d5b-fcbb-4682-b0bd-13920b9c728f"
   },
   "source": [
    "# train\n",
    "for epoch in range(1,51):\n",
    "    train(epoch)\n",
    "    test()"
   ],
   "execution_count": 8,
   "outputs": [
    {
     "output_type": "stream",
     "text": [
      "/usr/local/lib/python3.7/dist-packages/torch/nn/functional.py:1805: UserWarning: nn.functional.sigmoid is deprecated. Use torch.sigmoid instead.\n",
      "  warnings.warn(\"nn.functional.sigmoid is deprecated. Use torch.sigmoid instead.\")\n"
     ],
     "name": "stderr"
    },
    {
     "output_type": "stream",
     "text": [
      "Train Epoch: 1 [0/60000 (0%)]\tLoss: 542.695078\n",
      "Train Epoch: 1 [10000/60000 (17%)]\tLoss: 171.994824\n",
      "Train Epoch: 1 [20000/60000 (33%)]\tLoss: 157.380713\n",
      "Train Epoch: 1 [30000/60000 (50%)]\tLoss: 146.871904\n",
      "Train Epoch: 1 [40000/60000 (67%)]\tLoss: 149.022266\n",
      "Train Epoch: 1 [50000/60000 (83%)]\tLoss: 149.949775\n",
      "====> Epoch: 1 Average loss: 162.8021\n",
      "====> Test set loss: 141.3836\n",
      "Train Epoch: 2 [0/60000 (0%)]\tLoss: 140.775332\n",
      "Train Epoch: 2 [10000/60000 (17%)]\tLoss: 142.860146\n",
      "Train Epoch: 2 [20000/60000 (33%)]\tLoss: 132.468760\n",
      "Train Epoch: 2 [30000/60000 (50%)]\tLoss: 137.475371\n",
      "Train Epoch: 2 [40000/60000 (67%)]\tLoss: 135.811592\n",
      "Train Epoch: 2 [50000/60000 (83%)]\tLoss: 134.814424\n",
      "====> Epoch: 2 Average loss: 138.7178\n",
      "====> Test set loss: 136.8397\n",
      "Train Epoch: 3 [0/60000 (0%)]\tLoss: 131.887070\n",
      "Train Epoch: 3 [10000/60000 (17%)]\tLoss: 142.475850\n",
      "Train Epoch: 3 [20000/60000 (33%)]\tLoss: 132.622100\n",
      "Train Epoch: 3 [30000/60000 (50%)]\tLoss: 134.433232\n",
      "Train Epoch: 3 [40000/60000 (67%)]\tLoss: 131.722539\n",
      "Train Epoch: 3 [50000/60000 (83%)]\tLoss: 128.599326\n",
      "====> Epoch: 3 Average loss: 135.3466\n",
      "====> Test set loss: 134.8814\n",
      "Train Epoch: 4 [0/60000 (0%)]\tLoss: 133.587080\n",
      "Train Epoch: 4 [10000/60000 (17%)]\tLoss: 129.110547\n",
      "Train Epoch: 4 [20000/60000 (33%)]\tLoss: 133.161553\n",
      "Train Epoch: 4 [30000/60000 (50%)]\tLoss: 135.762607\n",
      "Train Epoch: 4 [40000/60000 (67%)]\tLoss: 129.813105\n",
      "Train Epoch: 4 [50000/60000 (83%)]\tLoss: 134.869824\n",
      "====> Epoch: 4 Average loss: 133.6764\n",
      "====> Test set loss: 133.2946\n",
      "Train Epoch: 5 [0/60000 (0%)]\tLoss: 128.168682\n",
      "Train Epoch: 5 [10000/60000 (17%)]\tLoss: 131.977988\n",
      "Train Epoch: 5 [20000/60000 (33%)]\tLoss: 141.082129\n",
      "Train Epoch: 5 [30000/60000 (50%)]\tLoss: 132.426191\n",
      "Train Epoch: 5 [40000/60000 (67%)]\tLoss: 137.182910\n",
      "Train Epoch: 5 [50000/60000 (83%)]\tLoss: 134.199648\n",
      "====> Epoch: 5 Average loss: 132.5888\n",
      "====> Test set loss: 132.6701\n",
      "Train Epoch: 6 [0/60000 (0%)]\tLoss: 130.397246\n",
      "Train Epoch: 6 [10000/60000 (17%)]\tLoss: 126.558779\n",
      "Train Epoch: 6 [20000/60000 (33%)]\tLoss: 133.682187\n",
      "Train Epoch: 6 [30000/60000 (50%)]\tLoss: 136.393320\n",
      "Train Epoch: 6 [40000/60000 (67%)]\tLoss: 138.358271\n",
      "Train Epoch: 6 [50000/60000 (83%)]\tLoss: 147.106660\n",
      "====> Epoch: 6 Average loss: 131.7389\n",
      "====> Test set loss: 131.9100\n",
      "Train Epoch: 7 [0/60000 (0%)]\tLoss: 128.898320\n",
      "Train Epoch: 7 [10000/60000 (17%)]\tLoss: 126.135361\n",
      "Train Epoch: 7 [20000/60000 (33%)]\tLoss: 133.087168\n",
      "Train Epoch: 7 [30000/60000 (50%)]\tLoss: 137.093838\n",
      "Train Epoch: 7 [40000/60000 (67%)]\tLoss: 131.606367\n",
      "Train Epoch: 7 [50000/60000 (83%)]\tLoss: 130.690566\n",
      "====> Epoch: 7 Average loss: 131.1216\n",
      "====> Test set loss: 131.5466\n",
      "Train Epoch: 8 [0/60000 (0%)]\tLoss: 132.569277\n",
      "Train Epoch: 8 [10000/60000 (17%)]\tLoss: 129.948838\n",
      "Train Epoch: 8 [20000/60000 (33%)]\tLoss: 129.849375\n",
      "Train Epoch: 8 [30000/60000 (50%)]\tLoss: 130.350195\n",
      "Train Epoch: 8 [40000/60000 (67%)]\tLoss: 130.346553\n",
      "Train Epoch: 8 [50000/60000 (83%)]\tLoss: 126.632822\n",
      "====> Epoch: 8 Average loss: 130.5651\n",
      "====> Test set loss: 130.9316\n",
      "Train Epoch: 9 [0/60000 (0%)]\tLoss: 129.161602\n",
      "Train Epoch: 9 [10000/60000 (17%)]\tLoss: 130.602100\n",
      "Train Epoch: 9 [20000/60000 (33%)]\tLoss: 140.835918\n",
      "Train Epoch: 9 [30000/60000 (50%)]\tLoss: 126.631475\n",
      "Train Epoch: 9 [40000/60000 (67%)]\tLoss: 126.569629\n",
      "Train Epoch: 9 [50000/60000 (83%)]\tLoss: 131.613770\n",
      "====> Epoch: 9 Average loss: 130.1443\n",
      "====> Test set loss: 130.8993\n",
      "Train Epoch: 10 [0/60000 (0%)]\tLoss: 129.332344\n",
      "Train Epoch: 10 [10000/60000 (17%)]\tLoss: 128.570205\n",
      "Train Epoch: 10 [20000/60000 (33%)]\tLoss: 126.501377\n",
      "Train Epoch: 10 [30000/60000 (50%)]\tLoss: 132.871660\n",
      "Train Epoch: 10 [40000/60000 (67%)]\tLoss: 120.193379\n",
      "Train Epoch: 10 [50000/60000 (83%)]\tLoss: 134.166426\n",
      "====> Epoch: 10 Average loss: 129.7580\n",
      "====> Test set loss: 130.3433\n",
      "Train Epoch: 11 [0/60000 (0%)]\tLoss: 130.736650\n",
      "Train Epoch: 11 [10000/60000 (17%)]\tLoss: 126.426582\n",
      "Train Epoch: 11 [20000/60000 (33%)]\tLoss: 130.381504\n",
      "Train Epoch: 11 [30000/60000 (50%)]\tLoss: 132.717070\n",
      "Train Epoch: 11 [40000/60000 (67%)]\tLoss: 131.429023\n",
      "Train Epoch: 11 [50000/60000 (83%)]\tLoss: 120.631143\n",
      "====> Epoch: 11 Average loss: 129.3683\n",
      "====> Test set loss: 130.3136\n",
      "Train Epoch: 12 [0/60000 (0%)]\tLoss: 124.545830\n",
      "Train Epoch: 12 [10000/60000 (17%)]\tLoss: 128.456592\n",
      "Train Epoch: 12 [20000/60000 (33%)]\tLoss: 126.169150\n",
      "Train Epoch: 12 [30000/60000 (50%)]\tLoss: 132.674150\n",
      "Train Epoch: 12 [40000/60000 (67%)]\tLoss: 127.711338\n",
      "Train Epoch: 12 [50000/60000 (83%)]\tLoss: 132.751152\n",
      "====> Epoch: 12 Average loss: 129.0838\n",
      "====> Test set loss: 129.9261\n",
      "Train Epoch: 13 [0/60000 (0%)]\tLoss: 129.371348\n",
      "Train Epoch: 13 [10000/60000 (17%)]\tLoss: 135.755918\n",
      "Train Epoch: 13 [20000/60000 (33%)]\tLoss: 120.279561\n",
      "Train Epoch: 13 [30000/60000 (50%)]\tLoss: 134.201016\n",
      "Train Epoch: 13 [40000/60000 (67%)]\tLoss: 129.978770\n",
      "Train Epoch: 13 [50000/60000 (83%)]\tLoss: 128.818799\n",
      "====> Epoch: 13 Average loss: 128.8802\n",
      "====> Test set loss: 129.6370\n",
      "Train Epoch: 14 [0/60000 (0%)]\tLoss: 127.150889\n",
      "Train Epoch: 14 [10000/60000 (17%)]\tLoss: 128.082070\n",
      "Train Epoch: 14 [20000/60000 (33%)]\tLoss: 134.900176\n",
      "Train Epoch: 14 [30000/60000 (50%)]\tLoss: 126.958604\n",
      "Train Epoch: 14 [40000/60000 (67%)]\tLoss: 130.734385\n",
      "Train Epoch: 14 [50000/60000 (83%)]\tLoss: 127.776455\n",
      "====> Epoch: 14 Average loss: 128.6161\n",
      "====> Test set loss: 129.5275\n",
      "Train Epoch: 15 [0/60000 (0%)]\tLoss: 130.787959\n",
      "Train Epoch: 15 [10000/60000 (17%)]\tLoss: 128.537568\n",
      "Train Epoch: 15 [20000/60000 (33%)]\tLoss: 125.721445\n",
      "Train Epoch: 15 [30000/60000 (50%)]\tLoss: 126.854883\n",
      "Train Epoch: 15 [40000/60000 (67%)]\tLoss: 132.115381\n",
      "Train Epoch: 15 [50000/60000 (83%)]\tLoss: 123.634443\n",
      "====> Epoch: 15 Average loss: 128.3562\n",
      "====> Test set loss: 129.5523\n",
      "Train Epoch: 16 [0/60000 (0%)]\tLoss: 126.284961\n",
      "Train Epoch: 16 [10000/60000 (17%)]\tLoss: 123.910479\n",
      "Train Epoch: 16 [20000/60000 (33%)]\tLoss: 128.776787\n",
      "Train Epoch: 16 [30000/60000 (50%)]\tLoss: 128.507314\n",
      "Train Epoch: 16 [40000/60000 (67%)]\tLoss: 126.526406\n",
      "Train Epoch: 16 [50000/60000 (83%)]\tLoss: 127.963389\n",
      "====> Epoch: 16 Average loss: 128.0988\n",
      "====> Test set loss: 129.1318\n",
      "Train Epoch: 17 [0/60000 (0%)]\tLoss: 130.504854\n",
      "Train Epoch: 17 [10000/60000 (17%)]\tLoss: 123.211631\n",
      "Train Epoch: 17 [20000/60000 (33%)]\tLoss: 132.974883\n",
      "Train Epoch: 17 [30000/60000 (50%)]\tLoss: 127.598330\n",
      "Train Epoch: 17 [40000/60000 (67%)]\tLoss: 131.096191\n",
      "Train Epoch: 17 [50000/60000 (83%)]\tLoss: 130.153418\n",
      "====> Epoch: 17 Average loss: 127.8967\n",
      "====> Test set loss: 128.8897\n",
      "Train Epoch: 18 [0/60000 (0%)]\tLoss: 122.380195\n",
      "Train Epoch: 18 [10000/60000 (17%)]\tLoss: 122.198086\n",
      "Train Epoch: 18 [20000/60000 (33%)]\tLoss: 126.473574\n",
      "Train Epoch: 18 [30000/60000 (50%)]\tLoss: 126.816221\n",
      "Train Epoch: 18 [40000/60000 (67%)]\tLoss: 129.296885\n",
      "Train Epoch: 18 [50000/60000 (83%)]\tLoss: 127.127783\n",
      "====> Epoch: 18 Average loss: 127.5843\n",
      "====> Test set loss: 128.9739\n",
      "Train Epoch: 19 [0/60000 (0%)]\tLoss: 133.561748\n",
      "Train Epoch: 19 [10000/60000 (17%)]\tLoss: 132.164902\n",
      "Train Epoch: 19 [20000/60000 (33%)]\tLoss: 121.491865\n",
      "Train Epoch: 19 [30000/60000 (50%)]\tLoss: 136.258984\n",
      "Train Epoch: 19 [40000/60000 (67%)]\tLoss: 124.424873\n",
      "Train Epoch: 19 [50000/60000 (83%)]\tLoss: 126.981426\n",
      "====> Epoch: 19 Average loss: 127.3316\n",
      "====> Test set loss: 128.7132\n",
      "Train Epoch: 20 [0/60000 (0%)]\tLoss: 121.913730\n",
      "Train Epoch: 20 [10000/60000 (17%)]\tLoss: 131.538418\n",
      "Train Epoch: 20 [20000/60000 (33%)]\tLoss: 127.797207\n",
      "Train Epoch: 20 [30000/60000 (50%)]\tLoss: 124.055293\n",
      "Train Epoch: 20 [40000/60000 (67%)]\tLoss: 128.303633\n",
      "Train Epoch: 20 [50000/60000 (83%)]\tLoss: 126.387539\n",
      "====> Epoch: 20 Average loss: 127.2106\n",
      "====> Test set loss: 128.6377\n",
      "Train Epoch: 21 [0/60000 (0%)]\tLoss: 120.360830\n",
      "Train Epoch: 21 [10000/60000 (17%)]\tLoss: 124.230801\n",
      "Train Epoch: 21 [20000/60000 (33%)]\tLoss: 129.889766\n",
      "Train Epoch: 21 [30000/60000 (50%)]\tLoss: 124.455518\n",
      "Train Epoch: 21 [40000/60000 (67%)]\tLoss: 125.347109\n",
      "Train Epoch: 21 [50000/60000 (83%)]\tLoss: 123.424043\n",
      "====> Epoch: 21 Average loss: 126.9742\n",
      "====> Test set loss: 128.6377\n",
      "Train Epoch: 22 [0/60000 (0%)]\tLoss: 128.861133\n",
      "Train Epoch: 22 [10000/60000 (17%)]\tLoss: 128.377676\n",
      "Train Epoch: 22 [20000/60000 (33%)]\tLoss: 127.436543\n",
      "Train Epoch: 22 [30000/60000 (50%)]\tLoss: 128.790547\n",
      "Train Epoch: 22 [40000/60000 (67%)]\tLoss: 130.026719\n",
      "Train Epoch: 22 [50000/60000 (83%)]\tLoss: 129.860742\n",
      "====> Epoch: 22 Average loss: 126.7294\n",
      "====> Test set loss: 128.4581\n",
      "Train Epoch: 23 [0/60000 (0%)]\tLoss: 126.162031\n",
      "Train Epoch: 23 [10000/60000 (17%)]\tLoss: 123.433574\n",
      "Train Epoch: 23 [20000/60000 (33%)]\tLoss: 124.619971\n",
      "Train Epoch: 23 [30000/60000 (50%)]\tLoss: 122.281875\n",
      "Train Epoch: 23 [40000/60000 (67%)]\tLoss: 122.832412\n",
      "Train Epoch: 23 [50000/60000 (83%)]\tLoss: 122.145068\n",
      "====> Epoch: 23 Average loss: 126.6583\n",
      "====> Test set loss: 128.3883\n",
      "Train Epoch: 24 [0/60000 (0%)]\tLoss: 123.590840\n",
      "Train Epoch: 24 [10000/60000 (17%)]\tLoss: 132.860850\n",
      "Train Epoch: 24 [20000/60000 (33%)]\tLoss: 118.324355\n",
      "Train Epoch: 24 [30000/60000 (50%)]\tLoss: 125.740742\n",
      "Train Epoch: 24 [40000/60000 (67%)]\tLoss: 120.470938\n",
      "Train Epoch: 24 [50000/60000 (83%)]\tLoss: 124.653076\n",
      "====> Epoch: 24 Average loss: 126.3383\n",
      "====> Test set loss: 128.2457\n",
      "Train Epoch: 25 [0/60000 (0%)]\tLoss: 128.817510\n",
      "Train Epoch: 25 [10000/60000 (17%)]\tLoss: 126.804258\n",
      "Train Epoch: 25 [20000/60000 (33%)]\tLoss: 118.911660\n",
      "Train Epoch: 25 [30000/60000 (50%)]\tLoss: 129.677666\n",
      "Train Epoch: 25 [40000/60000 (67%)]\tLoss: 121.378281\n",
      "Train Epoch: 25 [50000/60000 (83%)]\tLoss: 120.545215\n",
      "====> Epoch: 25 Average loss: 126.2908\n",
      "====> Test set loss: 128.3318\n",
      "Train Epoch: 26 [0/60000 (0%)]\tLoss: 130.782354\n",
      "Train Epoch: 26 [10000/60000 (17%)]\tLoss: 118.993281\n",
      "Train Epoch: 26 [20000/60000 (33%)]\tLoss: 125.573711\n",
      "Train Epoch: 26 [30000/60000 (50%)]\tLoss: 132.418037\n",
      "Train Epoch: 26 [40000/60000 (67%)]\tLoss: 124.619043\n",
      "Train Epoch: 26 [50000/60000 (83%)]\tLoss: 122.052773\n",
      "====> Epoch: 26 Average loss: 126.1678\n",
      "====> Test set loss: 128.2161\n",
      "Train Epoch: 27 [0/60000 (0%)]\tLoss: 120.495918\n",
      "Train Epoch: 27 [10000/60000 (17%)]\tLoss: 122.928428\n",
      "Train Epoch: 27 [20000/60000 (33%)]\tLoss: 119.279941\n",
      "Train Epoch: 27 [30000/60000 (50%)]\tLoss: 126.129609\n",
      "Train Epoch: 27 [40000/60000 (67%)]\tLoss: 127.413164\n",
      "Train Epoch: 27 [50000/60000 (83%)]\tLoss: 123.180830\n",
      "====> Epoch: 27 Average loss: 125.8841\n",
      "====> Test set loss: 128.1031\n",
      "Train Epoch: 28 [0/60000 (0%)]\tLoss: 129.344082\n",
      "Train Epoch: 28 [10000/60000 (17%)]\tLoss: 126.566299\n",
      "Train Epoch: 28 [20000/60000 (33%)]\tLoss: 119.657510\n",
      "Train Epoch: 28 [30000/60000 (50%)]\tLoss: 123.346025\n",
      "Train Epoch: 28 [40000/60000 (67%)]\tLoss: 126.111074\n",
      "Train Epoch: 28 [50000/60000 (83%)]\tLoss: 123.664961\n",
      "====> Epoch: 28 Average loss: 125.7627\n",
      "====> Test set loss: 128.1940\n",
      "Train Epoch: 29 [0/60000 (0%)]\tLoss: 124.004063\n",
      "Train Epoch: 29 [10000/60000 (17%)]\tLoss: 124.736914\n",
      "Train Epoch: 29 [20000/60000 (33%)]\tLoss: 122.980508\n",
      "Train Epoch: 29 [30000/60000 (50%)]\tLoss: 126.991250\n",
      "Train Epoch: 29 [40000/60000 (67%)]\tLoss: 119.040293\n",
      "Train Epoch: 29 [50000/60000 (83%)]\tLoss: 129.337412\n",
      "====> Epoch: 29 Average loss: 125.5218\n",
      "====> Test set loss: 127.9281\n",
      "Train Epoch: 30 [0/60000 (0%)]\tLoss: 129.645752\n",
      "Train Epoch: 30 [10000/60000 (17%)]\tLoss: 125.593057\n",
      "Train Epoch: 30 [20000/60000 (33%)]\tLoss: 128.569385\n",
      "Train Epoch: 30 [30000/60000 (50%)]\tLoss: 122.791104\n",
      "Train Epoch: 30 [40000/60000 (67%)]\tLoss: 124.574746\n",
      "Train Epoch: 30 [50000/60000 (83%)]\tLoss: 132.782041\n",
      "====> Epoch: 30 Average loss: 125.4000\n",
      "====> Test set loss: 127.7224\n",
      "Train Epoch: 31 [0/60000 (0%)]\tLoss: 120.859043\n",
      "Train Epoch: 31 [10000/60000 (17%)]\tLoss: 123.818604\n",
      "Train Epoch: 31 [20000/60000 (33%)]\tLoss: 125.078662\n",
      "Train Epoch: 31 [30000/60000 (50%)]\tLoss: 122.456260\n",
      "Train Epoch: 31 [40000/60000 (67%)]\tLoss: 125.397402\n",
      "Train Epoch: 31 [50000/60000 (83%)]\tLoss: 123.303428\n",
      "====> Epoch: 31 Average loss: 125.3223\n",
      "====> Test set loss: 127.7347\n",
      "Train Epoch: 32 [0/60000 (0%)]\tLoss: 124.334551\n",
      "Train Epoch: 32 [10000/60000 (17%)]\tLoss: 121.629658\n",
      "Train Epoch: 32 [20000/60000 (33%)]\tLoss: 118.266182\n",
      "Train Epoch: 32 [30000/60000 (50%)]\tLoss: 126.917041\n",
      "Train Epoch: 32 [40000/60000 (67%)]\tLoss: 126.190029\n",
      "Train Epoch: 32 [50000/60000 (83%)]\tLoss: 127.070605\n",
      "====> Epoch: 32 Average loss: 125.2065\n",
      "====> Test set loss: 127.8559\n",
      "Train Epoch: 33 [0/60000 (0%)]\tLoss: 126.583965\n",
      "Train Epoch: 33 [10000/60000 (17%)]\tLoss: 125.808535\n",
      "Train Epoch: 33 [20000/60000 (33%)]\tLoss: 119.153535\n",
      "Train Epoch: 33 [30000/60000 (50%)]\tLoss: 126.714551\n",
      "Train Epoch: 33 [40000/60000 (67%)]\tLoss: 123.925977\n",
      "Train Epoch: 33 [50000/60000 (83%)]\tLoss: 127.584375\n",
      "====> Epoch: 33 Average loss: 124.9306\n",
      "====> Test set loss: 127.8840\n",
      "Train Epoch: 34 [0/60000 (0%)]\tLoss: 121.090850\n",
      "Train Epoch: 34 [10000/60000 (17%)]\tLoss: 123.095059\n",
      "Train Epoch: 34 [20000/60000 (33%)]\tLoss: 128.378428\n",
      "Train Epoch: 34 [30000/60000 (50%)]\tLoss: 121.953750\n",
      "Train Epoch: 34 [40000/60000 (67%)]\tLoss: 134.230635\n",
      "Train Epoch: 34 [50000/60000 (83%)]\tLoss: 131.725605\n",
      "====> Epoch: 34 Average loss: 124.9856\n",
      "====> Test set loss: 127.5746\n",
      "Train Epoch: 35 [0/60000 (0%)]\tLoss: 124.390811\n",
      "Train Epoch: 35 [10000/60000 (17%)]\tLoss: 127.196055\n",
      "Train Epoch: 35 [20000/60000 (33%)]\tLoss: 124.467783\n",
      "Train Epoch: 35 [30000/60000 (50%)]\tLoss: 132.049111\n",
      "Train Epoch: 35 [40000/60000 (67%)]\tLoss: 125.622471\n",
      "Train Epoch: 35 [50000/60000 (83%)]\tLoss: 129.511729\n",
      "====> Epoch: 35 Average loss: 124.7116\n",
      "====> Test set loss: 127.6725\n",
      "Train Epoch: 36 [0/60000 (0%)]\tLoss: 113.689619\n",
      "Train Epoch: 36 [10000/60000 (17%)]\tLoss: 138.723018\n",
      "Train Epoch: 36 [20000/60000 (33%)]\tLoss: 127.403164\n",
      "Train Epoch: 36 [30000/60000 (50%)]\tLoss: 123.285469\n",
      "Train Epoch: 36 [40000/60000 (67%)]\tLoss: 126.133682\n",
      "Train Epoch: 36 [50000/60000 (83%)]\tLoss: 131.086250\n",
      "====> Epoch: 36 Average loss: 124.9139\n",
      "====> Test set loss: 127.6159\n",
      "Train Epoch: 37 [0/60000 (0%)]\tLoss: 123.866250\n",
      "Train Epoch: 37 [10000/60000 (17%)]\tLoss: 124.448145\n",
      "Train Epoch: 37 [20000/60000 (33%)]\tLoss: 126.326660\n",
      "Train Epoch: 37 [30000/60000 (50%)]\tLoss: 131.478125\n",
      "Train Epoch: 37 [40000/60000 (67%)]\tLoss: 122.899922\n",
      "Train Epoch: 37 [50000/60000 (83%)]\tLoss: 123.541045\n",
      "====> Epoch: 37 Average loss: 124.6216\n",
      "====> Test set loss: 127.8246\n",
      "Train Epoch: 38 [0/60000 (0%)]\tLoss: 120.023330\n",
      "Train Epoch: 38 [10000/60000 (17%)]\tLoss: 122.328232\n",
      "Train Epoch: 38 [20000/60000 (33%)]\tLoss: 129.811338\n",
      "Train Epoch: 38 [30000/60000 (50%)]\tLoss: 125.781055\n",
      "Train Epoch: 38 [40000/60000 (67%)]\tLoss: 133.321299\n",
      "Train Epoch: 38 [50000/60000 (83%)]\tLoss: 129.231016\n",
      "====> Epoch: 38 Average loss: 124.5762\n",
      "====> Test set loss: 127.7814\n",
      "Train Epoch: 39 [0/60000 (0%)]\tLoss: 126.335391\n",
      "Train Epoch: 39 [10000/60000 (17%)]\tLoss: 118.825293\n",
      "Train Epoch: 39 [20000/60000 (33%)]\tLoss: 123.122217\n",
      "Train Epoch: 39 [30000/60000 (50%)]\tLoss: 129.849365\n",
      "Train Epoch: 39 [40000/60000 (67%)]\tLoss: 124.294854\n",
      "Train Epoch: 39 [50000/60000 (83%)]\tLoss: 124.865820\n",
      "====> Epoch: 39 Average loss: 124.5103\n",
      "====> Test set loss: 127.6695\n",
      "Train Epoch: 40 [0/60000 (0%)]\tLoss: 122.144688\n",
      "Train Epoch: 40 [10000/60000 (17%)]\tLoss: 122.250146\n",
      "Train Epoch: 40 [20000/60000 (33%)]\tLoss: 126.526455\n",
      "Train Epoch: 40 [30000/60000 (50%)]\tLoss: 119.219199\n",
      "Train Epoch: 40 [40000/60000 (67%)]\tLoss: 119.018799\n",
      "Train Epoch: 40 [50000/60000 (83%)]\tLoss: 123.124434\n",
      "====> Epoch: 40 Average loss: 124.3947\n",
      "====> Test set loss: 127.5319\n",
      "Train Epoch: 41 [0/60000 (0%)]\tLoss: 119.202285\n",
      "Train Epoch: 41 [10000/60000 (17%)]\tLoss: 118.479219\n",
      "Train Epoch: 41 [20000/60000 (33%)]\tLoss: 124.437930\n",
      "Train Epoch: 41 [30000/60000 (50%)]\tLoss: 114.815186\n",
      "Train Epoch: 41 [40000/60000 (67%)]\tLoss: 125.846172\n",
      "Train Epoch: 41 [50000/60000 (83%)]\tLoss: 128.698135\n",
      "====> Epoch: 41 Average loss: 124.2236\n",
      "====> Test set loss: 127.5923\n",
      "Train Epoch: 42 [0/60000 (0%)]\tLoss: 121.979824\n",
      "Train Epoch: 42 [10000/60000 (17%)]\tLoss: 126.286084\n",
      "Train Epoch: 42 [20000/60000 (33%)]\tLoss: 128.445449\n",
      "Train Epoch: 42 [30000/60000 (50%)]\tLoss: 122.157939\n",
      "Train Epoch: 42 [40000/60000 (67%)]\tLoss: 120.458916\n",
      "Train Epoch: 42 [50000/60000 (83%)]\tLoss: 129.716748\n",
      "====> Epoch: 42 Average loss: 124.2228\n",
      "====> Test set loss: 127.6669\n",
      "Train Epoch: 43 [0/60000 (0%)]\tLoss: 113.920381\n",
      "Train Epoch: 43 [10000/60000 (17%)]\tLoss: 123.676943\n",
      "Train Epoch: 43 [20000/60000 (33%)]\tLoss: 123.432432\n",
      "Train Epoch: 43 [30000/60000 (50%)]\tLoss: 129.097910\n",
      "Train Epoch: 43 [40000/60000 (67%)]\tLoss: 127.363477\n",
      "Train Epoch: 43 [50000/60000 (83%)]\tLoss: 129.320127\n",
      "====> Epoch: 43 Average loss: 124.0096\n",
      "====> Test set loss: 127.4596\n",
      "Train Epoch: 44 [0/60000 (0%)]\tLoss: 120.502480\n",
      "Train Epoch: 44 [10000/60000 (17%)]\tLoss: 117.100303\n",
      "Train Epoch: 44 [20000/60000 (33%)]\tLoss: 119.811982\n",
      "Train Epoch: 44 [30000/60000 (50%)]\tLoss: 133.267842\n",
      "Train Epoch: 44 [40000/60000 (67%)]\tLoss: 127.327187\n",
      "Train Epoch: 44 [50000/60000 (83%)]\tLoss: 122.207314\n",
      "====> Epoch: 44 Average loss: 123.8603\n",
      "====> Test set loss: 127.7207\n",
      "Train Epoch: 45 [0/60000 (0%)]\tLoss: 115.119883\n",
      "Train Epoch: 45 [10000/60000 (17%)]\tLoss: 116.949414\n",
      "Train Epoch: 45 [20000/60000 (33%)]\tLoss: 125.455107\n",
      "Train Epoch: 45 [30000/60000 (50%)]\tLoss: 131.783389\n",
      "Train Epoch: 45 [40000/60000 (67%)]\tLoss: 128.276768\n",
      "Train Epoch: 45 [50000/60000 (83%)]\tLoss: 124.302100\n",
      "====> Epoch: 45 Average loss: 123.7607\n",
      "====> Test set loss: 127.3242\n",
      "Train Epoch: 46 [0/60000 (0%)]\tLoss: 115.131768\n",
      "Train Epoch: 46 [10000/60000 (17%)]\tLoss: 120.226836\n",
      "Train Epoch: 46 [20000/60000 (33%)]\tLoss: 128.942168\n",
      "Train Epoch: 46 [30000/60000 (50%)]\tLoss: 125.375879\n",
      "Train Epoch: 46 [40000/60000 (67%)]\tLoss: 126.869277\n",
      "Train Epoch: 46 [50000/60000 (83%)]\tLoss: 123.677227\n",
      "====> Epoch: 46 Average loss: 123.5712\n",
      "====> Test set loss: 127.6320\n",
      "Train Epoch: 47 [0/60000 (0%)]\tLoss: 123.797295\n",
      "Train Epoch: 47 [10000/60000 (17%)]\tLoss: 121.510937\n",
      "Train Epoch: 47 [20000/60000 (33%)]\tLoss: 120.943691\n",
      "Train Epoch: 47 [30000/60000 (50%)]\tLoss: 125.197939\n",
      "Train Epoch: 47 [40000/60000 (67%)]\tLoss: 127.999521\n",
      "Train Epoch: 47 [50000/60000 (83%)]\tLoss: 116.477959\n",
      "====> Epoch: 47 Average loss: 123.5197\n",
      "====> Test set loss: 127.4459\n",
      "Train Epoch: 48 [0/60000 (0%)]\tLoss: 118.912588\n",
      "Train Epoch: 48 [10000/60000 (17%)]\tLoss: 130.376650\n",
      "Train Epoch: 48 [20000/60000 (33%)]\tLoss: 123.381592\n",
      "Train Epoch: 48 [30000/60000 (50%)]\tLoss: 120.482500\n",
      "Train Epoch: 48 [40000/60000 (67%)]\tLoss: 126.858691\n",
      "Train Epoch: 48 [50000/60000 (83%)]\tLoss: 131.365947\n",
      "====> Epoch: 48 Average loss: 123.5206\n",
      "====> Test set loss: 127.4892\n",
      "Train Epoch: 49 [0/60000 (0%)]\tLoss: 129.250117\n",
      "Train Epoch: 49 [10000/60000 (17%)]\tLoss: 127.192578\n",
      "Train Epoch: 49 [20000/60000 (33%)]\tLoss: 119.742520\n",
      "Train Epoch: 49 [30000/60000 (50%)]\tLoss: 122.451836\n",
      "Train Epoch: 49 [40000/60000 (67%)]\tLoss: 124.438359\n",
      "Train Epoch: 49 [50000/60000 (83%)]\tLoss: 122.721084\n",
      "====> Epoch: 49 Average loss: 123.4475\n",
      "====> Test set loss: 127.6638\n",
      "Train Epoch: 50 [0/60000 (0%)]\tLoss: 111.991074\n",
      "Train Epoch: 50 [10000/60000 (17%)]\tLoss: 122.893184\n",
      "Train Epoch: 50 [20000/60000 (33%)]\tLoss: 122.242119\n",
      "Train Epoch: 50 [30000/60000 (50%)]\tLoss: 120.423447\n",
      "Train Epoch: 50 [40000/60000 (67%)]\tLoss: 127.631328\n",
      "Train Epoch: 50 [50000/60000 (83%)]\tLoss: 121.239258\n",
      "====> Epoch: 50 Average loss: 123.3046\n",
      "====> Test set loss: 127.5173\n"
     ],
     "name": "stdout"
    }
   ]
  },
  {
   "cell_type": "code",
   "metadata": {
    "colab": {
     "base_uri": "https://localhost:8080/"
    },
    "id": "mWIjztVy7TM2",
    "outputId": "6c2805f4-1b17-4b24-fe0d-1ab14e7b3a6c"
   },
   "source": [
    "from google.colab import drive\n",
    "drive.mount('/content/gdrive')"
   ],
   "execution_count": 9,
   "outputs": [
    {
     "output_type": "stream",
     "text": [
      "Mounted at /content/gdrive\n"
     ],
     "name": "stdout"
    }
   ]
  },
  {
   "cell_type": "code",
   "metadata": {
    "colab": {
     "base_uri": "https://localhost:8080/"
    },
    "id": "gWBg2JRQ1dhd",
    "outputId": "0dd7ecdd-56a2-4b77-a5da-aa8250e97ecf"
   },
   "source": [
    "with torch.no_grad():\n",
    "    z = torch.randn(10, 2).cuda()\n",
    "    c = torch.eye(10).cuda()\n",
    "\n",
    "    sample = cvae.decoder(z, c)\n",
    "    \n",
    "    save_image(sample.view(10, 1, 28, 28), '/content/gdrive' + '.png')\n",
    "    # !cp sample '/content/gdrive'"
   ],
   "execution_count": 10,
   "outputs": [
    {
     "output_type": "stream",
     "text": [
      "/usr/local/lib/python3.7/dist-packages/torch/nn/functional.py:1805: UserWarning: nn.functional.sigmoid is deprecated. Use torch.sigmoid instead.\n",
      "  warnings.warn(\"nn.functional.sigmoid is deprecated. Use torch.sigmoid instead.\")\n"
     ],
     "name": "stderr"
    }
   ]
  },
  {
   "cell_type": "code",
   "metadata": {
    "colab": {
     "base_uri": "https://localhost:8080/",
     "height": 899
    },
    "id": "jgP7hEw0RRR3",
    "outputId": "355ed092-c7a2-42df-d7cb-2ee5b40bfbc8"
   },
   "source": [
    "# loading handwriting image from training set\n",
    "from keras.datasets import mnist\n",
    "\n",
    "(train_X, train_y), (test_X, test_y) = mnist.load_data()\n",
    "\n",
    "\n",
    "import matplotlib\n",
    "\n",
    "from matplotlib import pyplot\n",
    "for i in range(9):\t\n",
    "  pyplot.subplot(330 + 1 + i)\n",
    "  pyplot.imshow(train_X[i], cmap=pyplot.get_cmap('gray'))\n",
    "  pyplot.show()\n",
    "\n",
    "# https://www.askpython.com/python/examples/load-and-plot-mnist-dataset-in-python"
   ],
   "execution_count": 21,
   "outputs": [
    {
     "output_type": "display_data",
     "data": {
      "image/png": "[encoded data removed]",
      "text/plain": [
       "<Figure size 432x288 with 1 Axes>"
      ]
     },
     "metadata": {
      "tags": [],
      "needs_background": "light"
     }
    },
    {
     "output_type": "display_data",
     "data": {
      "image/png": "[encoded data removed]",
      "text/plain": [
       "<Figure size 432x288 with 1 Axes>"
      ]
     },
     "metadata": {
      "tags": [],
      "needs_background": "light"
     }
    },
    {
     "output_type": "display_data",
     "data": {
      "image/png": "[encoded data removed]",
      "text/plain": [
       "<Figure size 432x288 with 1 Axes>"
      ]
     },
     "metadata": {
      "tags": [],
      "needs_background": "light"
     }
    },
    {
     "output_type": "display_data",
     "data": {
      "image/png": "[encoded data removed]",
      "text/plain": [
       "<Figure size 432x288 with 1 Axes>"
      ]
     },
     "metadata": {
      "tags": [],
      "needs_background": "light"
     }
    },
    {
     "output_type": "display_data",
     "data": {
      "image/png": "[encoded data removed]",
      "text/plain": [
       "<Figure size 432x288 with 1 Axes>"
      ]
     },
     "metadata": {
      "tags": [],
      "needs_background": "light"
     }
    },
    {
     "output_type": "display_data",
     "data": {
      "image/png": "[encoded data removed]",
      "text/plain": [
       "<Figure size 432x288 with 1 Axes>"
      ]
     },
     "metadata": {
      "tags": [],
      "needs_background": "light"
     }
    },
    {
     "output_type": "display_data",
     "data": {
      "image/png": "[encoded data removed]",
      "text/plain": [
       "<Figure size 432x288 with 1 Axes>"
      ]
     },
     "metadata": {
      "tags": [],
      "needs_background": "light"
     }
    },
    {
     "output_type": "display_data",
     "data": {
      "image/png": "[encoded data removed]",
      "text/plain": [
       "<Figure size 432x288 with 1 Axes>"
      ]
     },
     "metadata": {
      "tags": [],
      "needs_background": "light"
     }
    },
    {
     "output_type": "display_data",
     "data": {
      "image/png": "[encoded data removed]",
      "text/plain": [
       "<Figure size 432x288 with 1 Axes>"
      ]
     },
     "metadata": {
      "tags": [],
      "needs_background": "light"
     }
    }
   ]
  },
  {
   "cell_type": "code",
   "metadata": {
    "colab": {
     "base_uri": "https://localhost:8080/",
     "height": 899
    },
    "id": "TZ_G0JscV0u8",
    "outputId": "d4c1cb6a-5322-4368-f8bd-a1c3b063a16c"
   },
   "source": [
    "# loading handwriting image from test set\n",
    "for i in range(9):\t\n",
    "  pyplot.subplot(330 + 1 + i)\n",
    "  pyplot.imshow(test_X[i], cmap=pyplot.get_cmap('gray'))\n",
    "  pyplot.show()\n"
   ],
   "execution_count": 22,
   "outputs": [
    {
     "output_type": "display_data",
     "data": {
      "image/png": "[encoded data removed]",
      "text/plain": [
       "<Figure size 432x288 with 1 Axes>"
      ]
     },
     "metadata": {
      "tags": [],
      "needs_background": "light"
     }
    },
    {
     "output_type": "display_data",
     "data": {
      "image/png": "[encoded data removed]",
      "text/plain": [
       "<Figure size 432x288 with 1 Axes>"
      ]
     },
     "metadata": {
      "tags": [],
      "needs_background": "light"
     }
    },
    {
     "output_type": "display_data",
     "data": {
      "image/png": "[encoded data removed]",
      "text/plain": [
       "<Figure size 432x288 with 1 Axes>"
      ]
     },
     "metadata": {
      "tags": [],
      "needs_background": "light"
     }
    },
    {
     "output_type": "display_data",
     "data": {
      "image/png": "[encoded data removed]",
      "text/plain": [
       "<Figure size 432x288 with 1 Axes>"
      ]
     },
     "metadata": {
      "tags": [],
      "needs_background": "light"
     }
    },
    {
     "output_type": "display_data",
     "data": {
      "image/png": "[encoded data removed]",
      "text/plain": [
       "<Figure size 432x288 with 1 Axes>"
      ]
     },
     "metadata": {
      "tags": [],
      "needs_background": "light"
     }
    },
    {
     "output_type": "display_data",
     "data": {
      "image/png": "[encoded data removed]",
      "text/plain": [
       "<Figure size 432x288 with 1 Axes>"
      ]
     },
     "metadata": {
      "tags": [],
      "needs_background": "light"
     }
    },
    {
     "output_type": "display_data",
     "data": {
      "image/png": "[encoded data removed]",
      "text/plain": [
       "<Figure size 432x288 with 1 Axes>"
      ]
     },
     "metadata": {
      "tags": [],
      "needs_background": "light"
     }
    },
    {
     "output_type": "display_data",
     "data": {
      "image/png": "[encoded data removed]",
      "text/plain": [
       "<Figure size 432x288 with 1 Axes>"
      ]
     },
     "metadata": {
      "tags": [],
      "needs_background": "light"
     }
    },
    {
     "output_type": "display_data",
     "data": {
      "image/png": "[encoded data removed]",
      "text/plain": [
       "<Figure size 432x288 with 1 Axes>"
      ]
     },
     "metadata": {
      "tags": [],
      "needs_background": "light"
     }
    }
   ]
  }
 ]
}